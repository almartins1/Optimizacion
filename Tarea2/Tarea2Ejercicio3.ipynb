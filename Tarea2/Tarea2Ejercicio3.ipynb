{
 "cells": [
  {
   "cell_type": "markdown",
   "id": "09c4bea3",
   "metadata": {},
   "source": [
    "<h1> Ejercicio 3 </h1>\n",
    "\n",
    "<h2> Verificar que el conjunto de soluciones de un conjunto de desigualdades de matrices lineales es convexa. </h2>\n",
    "\n",
    "---"
   ]
  },
  {
   "cell_type": "markdown",
   "id": "28ce4528",
   "metadata": {},
   "source": [
    "Veamos que podemos definir este conjunto de la siguiente manera:\n",
    "\n",
    "$$ D = \\{x | Ax \\preceq b\\}$$\n",
    "\n",
    "Ahora comprobemos que efectivamente este conjunto es convexo. Entonces tomemos $x, y \\in D$ y veamos que $\\theta x + (1 - \\theta)y \\in D$ con $ 0 \\leq \\theta \\leq 1$. Multiplicando por la matriz A tenemos:\n",
    "\n",
    "$$ A(\\theta x  + (1- \\theta )y) = A\\theta x + A(1- \\theta) y = \\theta A x + (1-\\theta) Ay$$\n",
    "\n",
    "Ahora notemos que como $x. y \\in A$ entonces vamos a tener que $Ax \\preceq b$ y $Ay \\preceq b$, con esto vamos a tener que:\n",
    "\n",
    "$$ \\theta A x + (1-\\theta) Ay \\preceq \\theta b + (1-\\theta) b = b$$\n",
    "\n",
    "Por lo tanto como $\\theta x + (1 - \\theta)y \\in D$ entonces tenemos que efectivamente D es convexo."
   ]
  },
  {
   "cell_type": "markdown",
   "id": "7a6bad5d",
   "metadata": {},
   "source": [
    "---\n",
    "\n",
    "**(Navegacion entre los ejercicios)**\n",
    "\n",
    "Regresar a [Introducción_Tarea2.ipynb](Introducción_Tarea2.ipynb)\n",
    "\n",
    "---\n",
    "\n",
    "**Autor:** Alejandro Martin Salcedo\n",
    "\n",
    "---"
   ]
  },
  {
   "cell_type": "code",
   "execution_count": null,
   "id": "84564bb4",
   "metadata": {},
   "outputs": [],
   "source": []
  }
 ],
 "metadata": {
  "kernelspec": {
   "display_name": "Julia 1.7.2",
   "language": "julia",
   "name": "julia-1.7"
  },
  "language_info": {
   "file_extension": ".jl",
   "mimetype": "application/julia",
   "name": "julia",
   "version": "1.7.2"
  }
 },
 "nbformat": 4,
 "nbformat_minor": 5
}
