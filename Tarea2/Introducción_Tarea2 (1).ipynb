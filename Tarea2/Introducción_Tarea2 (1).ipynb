{
 "cells": [
  {
   "cell_type": "markdown",
   "id": "2e08830e",
   "metadata": {},
   "source": [
    "# TAREA 2\n",
    "\n",
    "Los jupyter notebooks presentados en esta carpeta son para el desarrollo de la segunda tarea propuesta en la materia de Introduccion a la optimización. Desde este archivo se puede navegar entre los notebooks que representan cada uno un ejercicio de la tarea.\n",
    "\n",
    "\n",
    "\n",
    "Los ejercicios propuestos son:\n",
    "\n",
    "---\n",
    "\n",
    "**1.** Del libro guía resolver los siguientes ejercicios: 2.1, 2.3, 2.4, 2.5, 2.8, 2.9, 2.10, 2.13, 2.14, 2.15, 2.16, 2.17, 2.18. Link al primer ejercicio [Ejercicio 1](Tarea2Ejercicio1.ipynb)<br>\n",
    "\n",
    "**2.** Implementar un algoritmo para determinar el cono convexo de un conjunto de puntos en cualquier dimensión. Link al segundo ejercicio [Ejercicio 2](Tarea1Ejercicio2.ipynb)<br>\n",
    "\n",
    "**3.** Verificar que el conjunto de soluciones de un conjunto de desigualdades de matrices lineales es convexa. Link al tercer ejercicio [Ejercicio 3](Tarea1Ejercicio3.ipynb)<br>\n",
    "\n",
    "---\n",
    "\n",
    "**Autor:** Alejandro Martin Salcedo\n",
    "\n",
    "---"
   ]
  },
  {
   "cell_type": "code",
   "execution_count": null,
   "id": "99bb9a63",
   "metadata": {},
   "outputs": [],
   "source": []
  }
 ],
 "metadata": {
  "kernelspec": {
   "display_name": "Julia 1.7.2",
   "language": "julia",
   "name": "julia-1.7"
  },
  "language_info": {
   "file_extension": ".jl",
   "mimetype": "application/julia",
   "name": "julia",
   "version": "1.7.2"
  }
 },
 "nbformat": 4,
 "nbformat_minor": 5
}
