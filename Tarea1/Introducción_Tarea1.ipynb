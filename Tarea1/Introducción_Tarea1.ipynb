{
 "cells": [
  {
   "cell_type": "markdown",
   "id": "de15373a",
   "metadata": {},
   "source": [
    "# TAREA 1\n",
    "\n",
    "Los jupyter notebooks presentados en esta carpeta son para el desarrollo de la primera tarea propuesta en la materia de Introduccion a la optimización. Desde este archivo se puede navegar entre los notebooks que representan cada uno un ejercicio de la tarea.\n",
    "\n",
    "\n",
    "\n",
    "Los ejercicios propuestos son:\n",
    "\n",
    "---\n",
    "\n",
    "**1.** Relacionado con la naturaleza de los datos, que condiciones deben cumplir las matrices $A$ y $b$ para ser solucionables desde la perspectiva de los mínimos cuadrados. Link al primer ejercicio [Ejercicio 1](Tarea1Ejercicio1.ipynb)<br>\n",
    "\n",
    "**2.** Use un modelo de mínimos cuadrados no lineal, ajuste el precio del bitcoin y realice una predicción usando el modelo para determinar el precio futuro una semana después, compare con los valores reales. Link al segundo ejercicio [Ejercicio 2](Tarea1Ejercicio2.ipynb)<br>\n",
    "\n",
    "**3.** Use minimos cuadrados para determinar la relacion entre el precio del bitcoin y los precios de las materias primas: el petroleo, la plata y el oro durante el ultimo año. Link al tercer ejercicio [Ejercicio 3](Tarea1Ejercicio3.ipynb)<br>\n",
    "\n",
    "---\n",
    "\n",
    "**Autor:** Alejandro Martin Salcedo\n",
    "\n",
    "---\n",
    "\n"
   ]
  },
  {
   "cell_type": "code",
   "execution_count": null,
   "id": "f284379e",
   "metadata": {},
   "outputs": [],
   "source": []
  }
 ],
 "metadata": {
  "kernelspec": {
   "display_name": "Julia 1.7.2",
   "language": "julia",
   "name": "julia-1.7"
  },
  "language_info": {
   "file_extension": ".jl",
   "mimetype": "application/julia",
   "name": "julia",
   "version": "1.7.2"
  }
 },
 "nbformat": 4,
 "nbformat_minor": 5
}
