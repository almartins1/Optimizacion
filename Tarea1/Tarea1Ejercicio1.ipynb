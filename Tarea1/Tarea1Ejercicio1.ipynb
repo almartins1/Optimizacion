{
 "cells": [
  {
   "cell_type": "markdown",
   "id": "e7def14d",
   "metadata": {},
   "source": [
    "## Ejercicio 1\n",
    "\n",
    "* **Relacionado con la naturaleza de los datos, que condiciones deben cumplir las matrices $A$ y $b$ para ser solucionables desde la perspectiva de los mínimos cuadrados.** \n",
    "\n",
    "---\n",
    "\n"
   ]
  },
  {
   "cell_type": "markdown",
   "id": "e345e05f",
   "metadata": {},
   "source": [
    "Dada la formulación de mínimos cuadrados:\n",
    "\n",
    "$\\tilde{x} = \\mbox{arg min}_{x} \\| Ax - b \\|_2^2$\n",
    "\n",
    "Con A $\\in R^{n \\times m}$ y un vector $b \\in R^{n}$ con $m < n$. Sabemos que su solución va a estar dada por las ecuaciones normales\n",
    "\n",
    "$A^T A x = A^T b$\n",
    "\n",
    "$x = (A^T A)^{-1} A^T  b $\n",
    "\n",
    "Con esto podemos ver que para usar mínimos cuadrados se debe tener que $ (A^T A)^{-1} $ exista. Para garantizar que esta inversa exista podemos utilizar el siguiente lema:\n",
    "\n",
    "$$ Rango(A) = Rango(A^T A) $$\n",
    "\n",
    "Entonces con el lema podemos garantizar la existencia de la inversa de $ (A^T A) $ si las columnas de $A$ son linealmente independientes.\n",
    "\n",
    "**(Demostración del lema)**\n",
    "\n",
    "$\\subseteq$ <br>\n",
    "Sea $x \\in Ker(A)$ donde $Ker(A)$ es el kernel de $A$.\n",
    "\n",
    "Luego tenemos que:\n",
    "\n",
    "$$ Ax = 0 $$\n",
    "$$ ⟹ A^TAx=0 $$\n",
    "\n",
    "entonces $x \\in Ker(A^TA)$ por lo tanto $Ker(A) \\subseteq Ker(A^TA)$\n",
    "\n",
    "$\\supseteq$ <br>\n",
    "\n",
    "Ahora sea $x \\in Ker(A^T A), entonces:\n",
    "\n",
    "$$ A^TAx = 0 $$\n",
    "$$ x^T A^T Ax = 0 $$\n",
    "$$ (Ax)^T (Ax) = 0 $$\n",
    "$$ ⟹ Ax = 0  $$\n",
    "\n",
    "Luego $x \\in Ker(A)$, por lo tanto $Ker(A^TA) \\subseteq Ker(A)$\n",
    "\n",
    "Con esto tenemos:\n",
    "\n",
    "$$ Ker(A^TA) = Ker(A) $$\n",
    "$$ dim(Ker(A^TA)) = dim(Ker(A)) $$\n",
    "$$ Rango(A^TA) = Rango(A) $$\n",
    "\n",
    "Y queda demostrado el lema.\n",
    "\n",
    "\n",
    "Entonces gracias al lema la unica condición para que se pueda solucionar una formulacion de mínimos cuadrados es que las columnas de $A$ sean linealmente independientes.\n",
    "\n",
    "---"
   ]
  },
  {
   "cell_type": "markdown",
   "id": "2ae048d6",
   "metadata": {},
   "source": [
    "**(Navegacion entre los ejercicios)**\n",
    "\n",
    "Link al [Ejercicio 2](Tarea1Ejercicio2.ipynb)\n",
    "\n",
    "Regresar a [Introducción_Tarea1.ipynb](Introducción_Tarea1.ipynb)\n",
    "\n",
    "---\n",
    "\n",
    "**Autor:** Alejandro Martin Salcedo\n",
    "\n",
    "---"
   ]
  },
  {
   "cell_type": "code",
   "execution_count": null,
   "id": "5b25712d",
   "metadata": {},
   "outputs": [],
   "source": []
  }
 ],
 "metadata": {
  "kernelspec": {
   "display_name": "Julia 1.7.2",
   "language": "julia",
   "name": "julia-1.7"
  },
  "language_info": {
   "file_extension": ".jl",
   "mimetype": "application/julia",
   "name": "julia",
   "version": "1.7.2"
  }
 },
 "nbformat": 4,
 "nbformat_minor": 5
}
