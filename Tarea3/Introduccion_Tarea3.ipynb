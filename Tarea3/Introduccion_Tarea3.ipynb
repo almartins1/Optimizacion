{
 "cells": [
  {
   "cell_type": "markdown",
   "id": "c89fceef",
   "metadata": {},
   "source": [
    "# TAREA 3\n",
    "\n",
    "Los jupyter notebooks presentados en esta carpeta son para el desarrollo de la tercera tarea propuesta en la materia de Introduccion a la optimización. Esta tarea fue realizada en grupos de tres personas, los integrantes del grupo son:\n",
    "\n",
    "**Alejandro Martin Salcedo**<br>\n",
    "**David Alexander Núñez Quintero**<br>\n",
    "**Paula Ximena Rodriguez Nempeque**<br>\n",
    "\n",
    "Los ejercicios propuestos fueron agrupados en un solo notebook: [Ejercicios del Taller3](Taller3_optimizacion.ipynb)<br>\n",
    "\n",
    "\n",
    "---\n",
    "\n",
    "**Autores:** Alejandro Martin Salcedo, David Alexander Núñez Quintero, Paula Ximena Rodriguez Nempeque.\n",
    "\n",
    "---"
   ]
  },
  {
   "cell_type": "code",
   "execution_count": null,
   "id": "6eb4a4d1",
   "metadata": {},
   "outputs": [],
   "source": []
  }
 ],
 "metadata": {
  "kernelspec": {
   "display_name": "Julia 1.7.2",
   "language": "julia",
   "name": "julia-1.7"
  },
  "language_info": {
   "file_extension": ".jl",
   "mimetype": "application/julia",
   "name": "julia",
   "version": "1.7.2"
  }
 },
 "nbformat": 4,
 "nbformat_minor": 5
}
